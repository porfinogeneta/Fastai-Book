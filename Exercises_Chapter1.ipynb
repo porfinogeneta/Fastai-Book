{
  "nbformat": 4,
  "nbformat_minor": 0,
  "metadata": {
    "accelerator": "GPU",
    "colab": {
      "name": "FastPractice_Lesson1_Pets.ipynb",
      "provenance": [],
      "include_colab_link": true
    },
    "kernelspec": {
      "display_name": "Python 3",
      "language": "python",
      "name": "python3"
    },
    "language_info": {
      "codemirror_mode": {
        "name": "ipython",
        "version": 3
      },
      "file_extension": ".py",
      "mimetype": "text/x-python",
      "name": "python",
      "nbconvert_exporter": "python",
      "pygments_lexer": "ipython3",
      "version": "3.7.4"
    },
    "widgets": {
      "application/vnd.jupyter.widget-state+json": {
        "d7a633eb941c4ba89d410295ccb75cc7": {
          "model_module": "@jupyter-widgets/controls",
          "model_name": "HBoxModel",
          "state": {
            "_view_name": "HBoxView",
            "_dom_classes": [],
            "_model_name": "HBoxModel",
            "_view_module": "@jupyter-widgets/controls",
            "_model_module_version": "1.5.0",
            "_view_count": null,
            "_view_module_version": "1.5.0",
            "box_style": "",
            "layout": "IPY_MODEL_bc663a88d8a942d3813bd4a76e136ce1",
            "_model_module": "@jupyter-widgets/controls",
            "children": [
              "IPY_MODEL_c95a145663e64ac1b0722bbb3471d9c5",
              "IPY_MODEL_6ca320fc14c648b5909daea4e3362e2a"
            ]
          },
          "model_module_version": "1.5.0"
        },
        "bc663a88d8a942d3813bd4a76e136ce1": {
          "model_module": "@jupyter-widgets/base",
          "model_name": "LayoutModel",
          "state": {
            "_view_name": "LayoutView",
            "grid_template_rows": null,
            "right": null,
            "justify_content": null,
            "_view_module": "@jupyter-widgets/base",
            "overflow": null,
            "_model_module_version": "1.2.0",
            "_view_count": null,
            "flex_flow": null,
            "width": null,
            "min_width": null,
            "border": null,
            "align_items": null,
            "bottom": null,
            "_model_module": "@jupyter-widgets/base",
            "top": null,
            "grid_column": null,
            "overflow_y": null,
            "overflow_x": null,
            "grid_auto_flow": null,
            "grid_area": null,
            "grid_template_columns": null,
            "flex": null,
            "_model_name": "LayoutModel",
            "justify_items": null,
            "grid_row": null,
            "max_height": null,
            "align_content": null,
            "visibility": null,
            "align_self": null,
            "height": null,
            "min_height": null,
            "padding": null,
            "grid_auto_rows": null,
            "grid_gap": null,
            "max_width": null,
            "order": null,
            "_view_module_version": "1.2.0",
            "grid_template_areas": null,
            "object_position": null,
            "object_fit": null,
            "grid_auto_columns": null,
            "margin": null,
            "display": null,
            "left": null
          },
          "model_module_version": "1.2.0"
        },
        "c95a145663e64ac1b0722bbb3471d9c5": {
          "model_module": "@jupyter-widgets/controls",
          "model_name": "FloatProgressModel",
          "state": {
            "_view_name": "ProgressView",
            "style": "IPY_MODEL_385e38f1b3f24029be7fc8795adffd94",
            "_dom_classes": [],
            "description": "100%",
            "_model_name": "FloatProgressModel",
            "bar_style": "success",
            "max": 87306240,
            "_view_module": "@jupyter-widgets/controls",
            "_model_module_version": "1.5.0",
            "value": 87306240,
            "_view_count": null,
            "_view_module_version": "1.5.0",
            "orientation": "horizontal",
            "min": 0,
            "description_tooltip": null,
            "_model_module": "@jupyter-widgets/controls",
            "layout": "IPY_MODEL_e72d56af0751449c8ab74d79ed83b321"
          },
          "model_module_version": "1.5.0"
        },
        "6ca320fc14c648b5909daea4e3362e2a": {
          "model_module": "@jupyter-widgets/controls",
          "model_name": "HTMLModel",
          "state": {
            "_view_name": "HTMLView",
            "style": "IPY_MODEL_cc7bdb10d9e4491fb57feb53a21d485a",
            "_dom_classes": [],
            "description": "",
            "_model_name": "HTMLModel",
            "placeholder": "​",
            "_view_module": "@jupyter-widgets/controls",
            "_model_module_version": "1.5.0",
            "value": " 83.3M/83.3M [00:24&lt;00:00, 3.57MB/s]",
            "_view_count": null,
            "_view_module_version": "1.5.0",
            "description_tooltip": null,
            "_model_module": "@jupyter-widgets/controls",
            "layout": "IPY_MODEL_868c67708ead4a28815da7ec1ae3def5"
          },
          "model_module_version": "1.5.0"
        },
        "385e38f1b3f24029be7fc8795adffd94": {
          "model_module": "@jupyter-widgets/controls",
          "model_name": "ProgressStyleModel",
          "state": {
            "_view_name": "StyleView",
            "_model_name": "ProgressStyleModel",
            "description_width": "initial",
            "_view_module": "@jupyter-widgets/base",
            "_model_module_version": "1.5.0",
            "_view_count": null,
            "_view_module_version": "1.2.0",
            "bar_color": null,
            "_model_module": "@jupyter-widgets/controls"
          },
          "model_module_version": "1.5.0"
        },
        "e72d56af0751449c8ab74d79ed83b321": {
          "model_module": "@jupyter-widgets/base",
          "model_name": "LayoutModel",
          "state": {
            "_view_name": "LayoutView",
            "grid_template_rows": null,
            "right": null,
            "justify_content": null,
            "_view_module": "@jupyter-widgets/base",
            "overflow": null,
            "_model_module_version": "1.2.0",
            "_view_count": null,
            "flex_flow": null,
            "width": null,
            "min_width": null,
            "border": null,
            "align_items": null,
            "bottom": null,
            "_model_module": "@jupyter-widgets/base",
            "top": null,
            "grid_column": null,
            "overflow_y": null,
            "overflow_x": null,
            "grid_auto_flow": null,
            "grid_area": null,
            "grid_template_columns": null,
            "flex": null,
            "_model_name": "LayoutModel",
            "justify_items": null,
            "grid_row": null,
            "max_height": null,
            "align_content": null,
            "visibility": null,
            "align_self": null,
            "height": null,
            "min_height": null,
            "padding": null,
            "grid_auto_rows": null,
            "grid_gap": null,
            "max_width": null,
            "order": null,
            "_view_module_version": "1.2.0",
            "grid_template_areas": null,
            "object_position": null,
            "object_fit": null,
            "grid_auto_columns": null,
            "margin": null,
            "display": null,
            "left": null
          },
          "model_module_version": "1.2.0"
        },
        "cc7bdb10d9e4491fb57feb53a21d485a": {
          "model_module": "@jupyter-widgets/controls",
          "model_name": "DescriptionStyleModel",
          "state": {
            "_view_name": "StyleView",
            "_model_name": "DescriptionStyleModel",
            "description_width": "",
            "_view_module": "@jupyter-widgets/base",
            "_model_module_version": "1.5.0",
            "_view_count": null,
            "_view_module_version": "1.2.0",
            "_model_module": "@jupyter-widgets/controls"
          },
          "model_module_version": "1.5.0"
        },
        "868c67708ead4a28815da7ec1ae3def5": {
          "model_module": "@jupyter-widgets/base",
          "model_name": "LayoutModel",
          "state": {
            "_view_name": "LayoutView",
            "grid_template_rows": null,
            "right": null,
            "justify_content": null,
            "_view_module": "@jupyter-widgets/base",
            "overflow": null,
            "_model_module_version": "1.2.0",
            "_view_count": null,
            "flex_flow": null,
            "width": null,
            "min_width": null,
            "border": null,
            "align_items": null,
            "bottom": null,
            "_model_module": "@jupyter-widgets/base",
            "top": null,
            "grid_column": null,
            "overflow_y": null,
            "overflow_x": null,
            "grid_auto_flow": null,
            "grid_area": null,
            "grid_template_columns": null,
            "flex": null,
            "_model_name": "LayoutModel",
            "justify_items": null,
            "grid_row": null,
            "max_height": null,
            "align_content": null,
            "visibility": null,
            "align_self": null,
            "height": null,
            "min_height": null,
            "padding": null,
            "grid_auto_rows": null,
            "grid_gap": null,
            "max_width": null,
            "order": null,
            "_view_module_version": "1.2.0",
            "grid_template_areas": null,
            "object_position": null,
            "object_fit": null,
            "grid_auto_columns": null,
            "margin": null,
            "display": null,
            "left": null
          },
          "model_module_version": "1.2.0"
        }
      }
    }
  },
  "cells": [
    {
      "cell_type": "markdown",
      "metadata": {
        "id": "view-in-github",
        "colab_type": "text"
      },
      "source": [
        "<a href=\"https://colab.research.google.com/github/porfinogeneta/Fastai-Book/blob/main/Exercises_Chapter1.ipynb\" target=\"_parent\"><img src=\"https://colab.research.google.com/assets/colab-badge.svg\" alt=\"Open In Colab\"/></a>"
      ]
    },
    {
      "cell_type": "code",
      "metadata": {
        "id": "OqA4zPKvAq2A"
      },
      "source": [
        "# from google.colab import drive\n",
        "# drive.mount('/content/drive')"
      ],
      "execution_count": null,
      "outputs": []
    },
    {
      "cell_type": "code",
      "metadata": {
        "id": "IvlGnf9LBDGq"
      },
      "source": [
        "# !git clone https://github.com/fastai/course-v4 'drive/My Drive/course-v4'"
      ],
      "execution_count": null,
      "outputs": []
    },
    {
      "cell_type": "code",
      "metadata": {
        "id": "7vu2akjMBVaa"
      },
      "source": [
        "#hide\n",
        "!pip install -Uqq fastbook\n",
        "import fastbook\n",
        "fastbook.setup_book()"
      ],
      "execution_count": null,
      "outputs": []
    },
    {
      "cell_type": "code",
      "metadata": {
        "id": "tCr8MV4Ay2W1"
      },
      "source": [
        "from fastbook import *"
      ],
      "execution_count": null,
      "outputs": []
    },
    {
      "cell_type": "code",
      "metadata": {
        "id": "SkwyS3U-Sal0"
      },
      "source": [
        "# note: the \"> ../dev/null\" above just prevents the cell\n",
        "# from outputting all the install verbosity ;)"
      ],
      "execution_count": null,
      "outputs": []
    },
    {
      "cell_type": "markdown",
      "metadata": {
        "id": "SIfIswqoKrqS"
      },
      "source": [
        "# Import the vision library"
      ]
    },
    {
      "cell_type": "code",
      "metadata": {
        "id": "2Mq0gBOmKoPT"
      },
      "source": [
        "from fastai.______.all import *  #Note: replace the ____ here"
      ],
      "execution_count": null,
      "outputs": []
    },
    {
      "cell_type": "markdown",
      "metadata": {
        "id": "XVQCeRnLFgGX"
      },
      "source": [
        "# Find the Dogs vs Cats DataSet\n",
        "In Fastai, the URLs variable contains urls towards various datasets.\n",
        "We'll take advantage of notebooks' capabilities here.\n",
        "\n",
        "In the following cell, type \"URL.\" and wait for a second.\n",
        "\n",
        "You should see different options appearing (starting with \"ADULT_SAMPLE\" and \"AG_NEWS\"...)\n",
        "\n",
        "<br />\n",
        "\n",
        "<b> IMPORTANT NOTE: if you are using a regular Jupyter Notebook instead of Colab, do \"URL.\" and press tab to see the options appearing ;) </b>"
      ]
    },
    {
      "cell_type": "code",
      "metadata": {
        "id": "P4RMbb8GDRYV",
        "outputId": "3c44a77d-e9ab-4841-e18d-afeb2752ef48",
        "colab": {
          "base_uri": "https://localhost:8080/",
          "height": 35
        }
      },
      "source": [],
      "execution_count": null,
      "outputs": [
        {
          "output_type": "execute_result",
          "data": {
            "text/plain": [
              "'http://files.fast.ai/data/examples/dogscats.tgz'"
            ]
          },
          "metadata": {
            "tags": []
          },
          "execution_count": 10
        }
      ]
    },
    {
      "cell_type": "markdown",
      "metadata": {
        "id": "LXZoIEkvGUD4"
      },
      "source": [
        "Click [here](https://course.fast.ai/datasets) to learn what those links contain, and complete the url variable below:"
      ]
    },
    {
      "cell_type": "code",
      "metadata": {
        "id": "JJCx6UQTEW5e",
        "outputId": "06b40c6b-80b8-4ee1-ad08-a689dd788c7b",
        "colab": {
          "base_uri": "https://localhost:8080/"
        }
      },
      "source": [
        "url_pointing_towards_dogsvcats = URLs.____ # Note: replace the ____\n",
        "assert url_pointing_towards_dogsvcats.split('/')[-1] == 'dogscats.tgz'"
      ],
      "execution_count": null,
      "outputs": [
        {
          "output_type": "stream",
          "text": [
            "https://s3.amazonaws.com/fast-ai-sample/dogscats.tgz\n"
          ],
          "name": "stdout"
        }
      ]
    },
    {
      "cell_type": "markdown",
      "metadata": {
        "id": "2CkYtetDQGZN"
      },
      "source": [
        "# Download the data and find where it was downloaded"
      ]
    },
    {
      "cell_type": "markdown",
      "metadata": {
        "id": "9KtmN3V4Eqf3"
      },
      "source": [
        "Now we will use the \"untar_data\" function to download the images.\n",
        "\n",
        "But first, let's learn what it does exactly. Again, we'll take advantage of the notebook's capabilities.\n",
        "Type ?untar_data() below and run the cell."
      ]
    },
    {
      "cell_type": "code",
      "metadata": {
        "id": "Et0WZXSsE1Zd"
      },
      "source": [
        "____ # Get the documentation for untar_data()"
      ],
      "execution_count": null,
      "outputs": []
    },
    {
      "cell_type": "code",
      "metadata": {
        "id": "OYhXx84iE6mR"
      },
      "source": [
        "# note; you can also try ??untar_data or help(untar_data) and see what they do differently"
      ],
      "execution_count": null,
      "outputs": []
    },
    {
      "cell_type": "markdown",
      "metadata": {
        "id": "Jmn8nfHwE8Od"
      },
      "source": [
        "So, the doc says :\n",
        "\n",
        "\"Download `url` to `fname` if `dest` doesn't exist, and un-tgz to folder `dest`.\"\n",
        "\n",
        "In Jeremy's class example, he provides the url, but neither fname nor dest.\n",
        "\n",
        "So what happens ? Let's find out..."
      ]
    },
    {
      "cell_type": "code",
      "metadata": {
        "id": "ZCFWdtxvZ76l"
      },
      "source": [
        "# if you have problems with the cell below,\n",
        "# here is a linux command to remove broken file\n",
        "# just un-comment the following line:\n",
        "# rm -r -f /root/.fastai/archive/dogscats.tgz"
      ],
      "execution_count": null,
      "outputs": []
    },
    {
      "cell_type": "code",
      "metadata": {
        "id": "2UVfP1msIYzx",
        "outputId": "2f32e9d4-4118-4f16-9949-1be9148042fb",
        "colab": {
          "base_uri": "https://localhost:8080/",
          "height": 17
        }
      },
      "source": [
        "# pass the url you defined above to untar_data:\n",
        "\n",
        "path = untar_data(____)  # Replace the ____\n",
        "assert path.name == 'dogscats'"
      ],
      "execution_count": null,
      "outputs": [
        {
          "output_type": "display_data",
          "data": {
            "text/html": [
              ""
            ],
            "text/plain": [
              "<IPython.core.display.HTML object>"
            ]
          },
          "metadata": {
            "tags": []
          }
        }
      ]
    },
    {
      "cell_type": "code",
      "metadata": {
        "id": "8RsPmROvKI8P",
        "outputId": "35316500-1e49-4cec-ad29-cf32133a4f22",
        "colab": {
          "base_uri": "https://localhost:8080/"
        }
      },
      "source": [
        "print(path)"
      ],
      "execution_count": null,
      "outputs": [
        {
          "output_type": "stream",
          "text": [
            "/root/.fastai/data/dogscats\n"
          ],
          "name": "stdout"
        }
      ]
    },
    {
      "cell_type": "markdown",
      "metadata": {
        "id": "2uTzUgRhLIWY"
      },
      "source": [
        "As you can see, since we didn't give any fname or dest to the untar_data function, it chose its own default and store your data in a private directory called .fastai/data"
      ]
    },
    {
      "cell_type": "code",
      "metadata": {
        "id": "doTicmE-LhmG",
        "outputId": "ecc9efea-22b3-4334-f901-98b82cba9f84",
        "colab": {
          "base_uri": "https://localhost:8080/"
        }
      },
      "source": [
        "# This is interesting !\n",
        "type(path)"
      ],
      "execution_count": null,
      "outputs": [
        {
          "output_type": "execute_result",
          "data": {
            "text/plain": [
              "pathlib.PosixPath"
            ]
          },
          "metadata": {
            "tags": []
          },
          "execution_count": 10
        }
      ]
    },
    {
      "cell_type": "markdown",
      "metadata": {
        "id": "daoSeZIzLkU6"
      },
      "source": [
        "As you can see, \"path\" is not just a string storing the directory where you data was downloaded. It is a PosixPath.\n",
        "\n",
        "PosixPathes have a bunch of fun methods. For example, try this:"
      ]
    },
    {
      "cell_type": "code",
      "metadata": {
        "id": "JOcKYfv-MC98",
        "outputId": "f254a54a-3a62-43b7-fd2e-3fbe8cc8835c",
        "colab": {
          "base_uri": "https://localhost:8080/"
        }
      },
      "source": [
        "path.ls()"
      ],
      "execution_count": null,
      "outputs": [
        {
          "output_type": "execute_result",
          "data": {
            "text/plain": [
              "(#4) [Path('/root/.fastai/data/dogscats/sample'),Path('/root/.fastai/data/dogscats/test1'),Path('/root/.fastai/data/dogscats/train'),Path('/root/.fastai/data/dogscats/valid')]"
            ]
          },
          "metadata": {
            "tags": []
          },
          "execution_count": 11
        }
      ]
    },
    {
      "cell_type": "markdown",
      "metadata": {
        "id": "tkne01g-MDt0"
      },
      "source": [
        "So, this url provides us with four folders:\n",
        "\n",
        "- test1\n",
        "- train\n",
        "- valid\n",
        "- sample\n",
        "\n",
        "This is interesting ! The course example created the dataloaders by taking advantage of the fact that the cats images started with an Uppercase letter.\n",
        "\n",
        "This won't always be the case ! What should we do ? Rename all our pictures so that one class starts with uppercase and the other doesn't ??\n",
        "\n",
        "Well, the example we have here has another approach, they store different categories in different folders. Let's see:"
      ]
    },
    {
      "cell_type": "code",
      "metadata": {
        "id": "jwSR6qmFMWy-",
        "outputId": "0179e471-590b-4aa9-c513-a9bcd20c2c45",
        "colab": {
          "base_uri": "https://localhost:8080/"
        }
      },
      "source": [
        "(path/'train').ls()  # Yes, you can add a folder to a PosixPath like so ;)\n",
        "# in the \"train\" folder, there are two other folders: dogs, and cats.\n",
        "# Luckily for us, fastai provides us with an api that deals\n",
        "# With this kind of data splitting"
      ],
      "execution_count": null,
      "outputs": [
        {
          "output_type": "execute_result",
          "data": {
            "text/plain": [
              "(#2) [Path('/root/.fastai/data/dogscats/train/cats'),Path('/root/.fastai/data/dogscats/train/dogs')]"
            ]
          },
          "metadata": {
            "tags": []
          },
          "execution_count": 12
        }
      ]
    },
    {
      "cell_type": "markdown",
      "metadata": {
        "id": "J5-81VT1QRd5"
      },
      "source": [
        "# Create DataLoaders using folders\n",
        "(not the file's name)"
      ]
    },
    {
      "cell_type": "code",
      "metadata": {
        "id": "iE-D3LAuNJSQ"
      },
      "source": [
        "# Again, use the notebooks capabilities to find what you need;\n",
        "# start by typing \"ImageDataLoaders.\" and wait until you get a list of options\n",
        "# can you guess which one you could use ? ;-)\n",
        "ImageDataLoaders."
      ],
      "execution_count": null,
      "outputs": []
    },
    {
      "cell_type": "code",
      "metadata": {
        "id": "w_CB84f0OHH0"
      },
      "source": [
        "# replace this with the method you found above\n",
        "# if you didn't find it (or need a hint), I put as many \"_\" as there are\n",
        "# letters in the method you are looking for\n",
        "dls = ImageDataLoaders.from_folder(path,\n",
        "                                   item_tfms=Resize(224))\n",
        "\n",
        "# Don't worry about the Resize() for now, we'll see what this does latter\n",
        "assert isinstance(dls, DataLoaders)"
      ],
      "execution_count": null,
      "outputs": []
    },
    {
      "cell_type": "markdown",
      "metadata": {
        "id": "bg3wwDpQP_V_"
      },
      "source": [
        "Congratulations !!!!\n",
        "\n",
        "You created your first dataloaders. Those are cool things where fastai does a lot for you !\n",
        "\n",
        "For example, try the following:\n"
      ]
    },
    {
      "cell_type": "code",
      "metadata": {
        "id": "__io8UStOMte"
      },
      "source": [
        "# dls.show_batch()  # Un-comment the cell. Cool, heh ?"
      ],
      "execution_count": null,
      "outputs": []
    },
    {
      "cell_type": "markdown",
      "metadata": {
        "id": "qGyt0CgFOSca"
      },
      "source": [
        "# Use our dataloaders to train a deep learning model !\n",
        "The only lines from the course we haven't covered are the following ones:"
      ]
    },
    {
      "cell_type": "code",
      "metadata": {
        "id": "LFVRsffxQ0oJ"
      },
      "source": [
        "# learn = cnn_learner(dls, resnet34, metrics=error_rate)\n",
        "# learn.fine_tune(1)"
      ],
      "execution_count": null,
      "outputs": []
    },
    {
      "cell_type": "markdown",
      "metadata": {
        "id": "6pOraS_FREMy"
      },
      "source": [
        "Can you guess what you need to change in our case ?\n",
        "That's right, <b>absolutely nothing !!</b>\n",
        "You'll find that most of the time, pipeline-ing your data into dataloaders is\n",
        "the hardest part (at least that's the way I see it). Once this is done, it's a\n",
        "matter of creating your learner, and train it.\n",
        "\n"
      ]
    },
    {
      "cell_type": "code",
      "metadata": {
        "id": "-Wgwa7HNRdxA",
        "outputId": "b518d60b-d4cd-4709-f91b-5303dec216f1",
        "colab": {
          "base_uri": "https://localhost:8080/",
          "height": 84,
          "referenced_widgets": [
            "d7a633eb941c4ba89d410295ccb75cc7",
            "bc663a88d8a942d3813bd4a76e136ce1",
            "c95a145663e64ac1b0722bbb3471d9c5",
            "6ca320fc14c648b5909daea4e3362e2a",
            "385e38f1b3f24029be7fc8795adffd94",
            "e72d56af0751449c8ab74d79ed83b321",
            "cc7bdb10d9e4491fb57feb53a21d485a",
            "868c67708ead4a28815da7ec1ae3def5"
          ]
        }
      },
      "source": [
        "# You'll learn more about learners and training in the future.\n",
        "# For now, just type the first line of code of the cell above here:\n",
        "# (yes, type it! Don't copy paste. You are here to practice ;) )\n",
        "learn =\n",
        "assert isinstance(learn, Learner)"
      ],
      "execution_count": null,
      "outputs": [
        {
          "output_type": "stream",
          "text": [
            "Downloading: \"https://download.pytorch.org/models/resnet34-333f7ec4.pth\" to /root/.cache/torch/hub/checkpoints/resnet34-333f7ec4.pth\n"
          ],
          "name": "stderr"
        },
        {
          "output_type": "display_data",
          "data": {
            "application/vnd.jupyter.widget-view+json": {
              "model_id": "d7a633eb941c4ba89d410295ccb75cc7",
              "version_minor": 0,
              "version_major": 2
            },
            "text/plain": [
              "HBox(children=(FloatProgress(value=0.0, max=87306240.0), HTML(value='')))"
            ]
          },
          "metadata": {
            "tags": []
          }
        },
        {
          "output_type": "stream",
          "text": [
            "\n"
          ],
          "name": "stdout"
        }
      ]
    },
    {
      "cell_type": "code",
      "metadata": {
        "id": "Jj4H3t2AR34n",
        "outputId": "cd9a17c5-0687-464a-cc76-b37c493075e1",
        "colab": {
          "base_uri": "https://localhost:8080/",
          "height": 95
        }
      },
      "source": [
        "# Now, type the second line above and train your model:\n"
      ],
      "execution_count": null,
      "outputs": [
        {
          "output_type": "display_data",
          "data": {
            "text/html": [
              "\n",
              "    <div>\n",
              "        <style>\n",
              "            /* Turns off some styling */\n",
              "            progress {\n",
              "                /* gets rid of default border in Firefox and Opera. */\n",
              "                border: none;\n",
              "                /* Needs to be in here for Safari polyfill so background images work as expected. */\n",
              "                background-size: auto;\n",
              "            }\n",
              "            .progress-bar-interrupted, .progress-bar-interrupted::-webkit-progress-bar {\n",
              "                background: #F44336;\n",
              "            }\n",
              "        </style>\n",
              "      <progress value='0' class='' max='1' style='width:300px; height:20px; vertical-align: middle;'></progress>\n",
              "      0.00% [0/1 00:00<00:00]\n",
              "    </div>\n",
              "    \n",
              "<table border=\"1\" class=\"dataframe\">\n",
              "  <thead>\n",
              "    <tr style=\"text-align: left;\">\n",
              "      <th>epoch</th>\n",
              "      <th>train_loss</th>\n",
              "      <th>valid_loss</th>\n",
              "      <th>error_rate</th>\n",
              "      <th>time</th>\n",
              "    </tr>\n",
              "  </thead>\n",
              "  <tbody>\n",
              "  </tbody>\n",
              "</table><p>\n",
              "\n",
              "    <div>\n",
              "        <style>\n",
              "            /* Turns off some styling */\n",
              "            progress {\n",
              "                /* gets rid of default border in Firefox and Opera. */\n",
              "                border: none;\n",
              "                /* Needs to be in here for Safari polyfill so background images work as expected. */\n",
              "                background-size: auto;\n",
              "            }\n",
              "            .progress-bar-interrupted, .progress-bar-interrupted::-webkit-progress-bar {\n",
              "                background: #F44336;\n",
              "            }\n",
              "        </style>\n",
              "      <progress value='254' class='' max='359' style='width:300px; height:20px; vertical-align: middle;'></progress>\n",
              "      70.75% [254/359 01:36<00:39 0.1015]\n",
              "    </div>\n",
              "    "
            ],
            "text/plain": [
              "<IPython.core.display.HTML object>"
            ]
          },
          "metadata": {
            "tags": []
          }
        }
      ]
    },
    {
      "cell_type": "code",
      "metadata": {
        "id": "spMQPCm-SKT4"
      },
      "source": [
        "# Now, you should start gaining the habit of using \"object.\" in a colab cell\n",
        "# and waiting to see your options.\n",
        "\n",
        "# If you do that with your \"learn\" object ('learn.' and wait..), you should find\n",
        "# a method to show the results of the model. Try it !\n",
        "\n",
        "learn\n",
        "\n",
        "# if you didn't find it, hint: learn.____________()"
      ],
      "execution_count": null,
      "outputs": []
    },
    {
      "cell_type": "markdown",
      "metadata": {
        "id": "cczT1SCcTqnS"
      },
      "source": [
        "# Recap\n",
        "\n",
        "you just trained a model that differentiates between cats and dogs. Can you do it again with less help ?"
      ]
    },
    {
      "cell_type": "markdown",
      "metadata": {
        "id": "P8S22OjGUZOz"
      },
      "source": [
        "## Find the url:"
      ]
    },
    {
      "cell_type": "code",
      "metadata": {
        "id": "ilmWVvBuUjMo"
      },
      "source": [],
      "execution_count": null,
      "outputs": []
    },
    {
      "cell_type": "markdown",
      "metadata": {
        "id": "OqUwWS7IUlIy"
      },
      "source": [
        "## Untar it:"
      ]
    },
    {
      "cell_type": "code",
      "metadata": {
        "id": "zuoIPTifUroH"
      },
      "source": [],
      "execution_count": null,
      "outputs": []
    },
    {
      "cell_type": "markdown",
      "metadata": {
        "id": "Gs8Q2RudUnNT"
      },
      "source": [
        "##Create dataloaders:"
      ]
    },
    {
      "cell_type": "code",
      "metadata": {
        "id": "sv2nfMkGUvdx"
      },
      "source": [],
      "execution_count": null,
      "outputs": []
    },
    {
      "cell_type": "markdown",
      "metadata": {
        "id": "Uk0_S_RSU05a"
      },
      "source": [
        "## Create the Model"
      ]
    },
    {
      "cell_type": "code",
      "metadata": {
        "id": "FjnakASQU2Ze"
      },
      "source": [],
      "execution_count": null,
      "outputs": []
    },
    {
      "cell_type": "markdown",
      "metadata": {
        "id": "Fspg-we8a96Q"
      },
      "source": [
        "## Train the model"
      ]
    },
    {
      "cell_type": "code",
      "metadata": {
        "id": "iUaalwLQa1Fa"
      },
      "source": [],
      "execution_count": null,
      "outputs": []
    },
    {
      "cell_type": "markdown",
      "metadata": {
        "id": "xCmCB5Z5U6HL"
      },
      "source": [
        "## See results !"
      ]
    },
    {
      "cell_type": "code",
      "metadata": {
        "id": "WpOUOG0EU9R_"
      },
      "source": [],
      "execution_count": null,
      "outputs": []
    },
    {
      "cell_type": "markdown",
      "metadata": {
        "id": "sVO8Q_8IU-eH"
      },
      "source": [
        "Now, wouldn't you like to put that model online to impress your family and friends ? We'll that's coming with next week's lesson. Stay tuned ;)"
      ]
    },
    {
      "cell_type": "code",
      "metadata": {
        "id": "L-Uf3vdKVIWI"
      },
      "source": [],
      "execution_count": null,
      "outputs": []
    }
  ]
}